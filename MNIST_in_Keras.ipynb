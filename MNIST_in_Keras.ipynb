{
  "cells": [
    {
      "cell_type": "code",
      "execution_count": null,
      "metadata": {
        "collapsed": true,
        "id": "A7rjaedwS6te"
      },
      "outputs": [],
      "source": [
        "%matplotlib inline"
      ]
    },
    {
      "cell_type": "markdown",
      "metadata": {
        "id": "dl2eQwgcS6tt"
      },
      "source": [
        "# Introduction to Deep Learning with Keras and TensorFlow\n",
        "\n",
        "**This notebook is an adaptation of a colaboratory notebook from Daniel Moser (UT Southwestern Medical Center)** \n",
        "\n",
        "The Original: https://colab.research.google.com/github/AviatorMoser/keras-mnist-tutorial/blob/master/MNIST%20in%20Keras.ipynb?hl=en#scrollTo=GSEjSPVzKwwU\n",
        "\n",
        "To help you understand the fundamentals of deep learning, this demo will walk through the basic steps of building two toy models for classifying handwritten numbers with accuracies surpassing 95%. The first model will be a basic fully connected neural network, and the second model will be a deeper network that introduces the concepts of convolution and pooling.\n",
        "\n",
        "## The Task for the AI\n",
        "\n",
        "Our goal is to construct and train an artificial neural network on thousands of images of handwritten digits so that it may successfully identify others when presented. The data that will be incorporated is the MNIST database which contains 60,000 images for training and 10,000 test images. We will use the Keras Python API with TensorFlow as the backend.\n",
        "\n",
        "<img src=\"https://github.com/AviatorMoser/keras-mnist-tutorial/blob/master/mnist.png?raw=1\" >"
      ]
    },
    {
      "cell_type": "markdown",
      "metadata": {
        "id": "RQaJ05MfS6tu"
      },
      "source": [
        "## Prerequisite Python Modules\n",
        "\n",
        "First, some software needs to be loaded into the Python environment."
      ]
    },
    {
      "cell_type": "code",
      "execution_count": 3,
      "metadata": {
        "id": "I_ETQrywS6tv"
      },
      "outputs": [],
      "source": [
        "import numpy as np                   # advanced math library\n",
        "import matplotlib.pyplot as plt      # MATLAB like plotting routines\n",
        "import tensorflow as tf\n",
        "import seaborn as sns\n",
        "import random\n",
        "from tensorflow.keras.datasets import mnist     # MNIST dataset is included in Keras\n",
        "from tensorflow.keras.models import Sequential  # Model type to be used\n",
        "\n",
        "from tensorflow.keras.layers import Dense, Dropout, Activation # Types of layers to be used in our model\n",
        "from tensorflow.keras import utils as np_utils                         # NumPy related tools\n",
        "from sklearn.metrics import confusion_matrix"
      ]
    },
    {
      "cell_type": "markdown",
      "metadata": {
        "id": "xBvF8NH9S6tw"
      },
      "source": [
        "## Loading Training Data\n",
        "\n",
        "The MNIST dataset is conveniently bundled within Keras, and we can easily analyze some of its features in Python."
      ]
    },
    {
      "cell_type": "code",
      "execution_count": 2,
      "metadata": {
        "id": "ItQ0qgFzS6tx"
      },
      "outputs": [
        {
          "name": "stdout",
          "output_type": "stream",
          "text": [
            "X_train shape (60000, 28, 28)\n",
            "y_train shape (60000,)\n",
            "X_test shape (10000, 28, 28)\n",
            "y_test shape (10000,)\n"
          ]
        }
      ],
      "source": [
        "# The MNIST data is split between 60,000 28 x 28 pixel training images and 10,000 28 x 28 pixel images\n",
        "(X_train, y_train), (X_test, y_test) = mnist.load_data()\n",
        "\n",
        "print(\"X_train shape\", X_train.shape)\n",
        "print(\"y_train shape\", y_train.shape)\n",
        "print(\"X_test shape\", X_test.shape)\n",
        "print(\"y_test shape\", y_test.shape)\n"
      ]
    },
    {
      "cell_type": "markdown",
      "metadata": {
        "id": "t8BYlux_S6ty"
      },
      "source": [
        "Using matplotlib, we can plot some sample images from the training set directly into this Jupyter Notebook."
      ]
    },
    {
      "cell_type": "code",
      "execution_count": 4,
      "metadata": {
        "id": "nw2sYGajS6tz"
      },
      "outputs": [
        {
          "data": {
            "image/png": "[encoded data removed]",
            "text/plain": [
              "<Figure size 300x300 with 9 Axes>"
            ]
          },
          "metadata": {},
          "output_type": "display_data"
        }
      ],
      "source": [
        "plt.rcParams['figure.figsize'] = (3,3) # Make the figures a bit bigger\n",
        "\n",
        "for i in range(9):\n",
        "    plt.subplot(3,3,i+1)\n",
        "    num = random.randint(0, len(X_train))\n",
        "    plt.imshow(X_train[num], cmap='gray', interpolation='none')\n",
        "    plt.title(\"Class {}\".format(y_train[num]))\n",
        "\n",
        "plt.tight_layout()\n"
      ]
    },
    {
      "cell_type": "markdown",
      "metadata": {
        "id": "mszt2xqiS6t0"
      },
      "source": [
        "Let's examine a single digit a little closer, and print out the array representing the last digit."
      ]
    },
    {
      "cell_type": "code",
      "execution_count": 5,
      "metadata": {
        "id": "hEte9-meS6t0"
      },
      "outputs": [
        {
          "name": "stdout",
          "output_type": "stream",
          "text": [
            "0  0  0  0  0  0  0    0    0    0    0    0    0    0    0    0    0    0    0    0    0    0    0    0    0    0    0  0  \n",
            "0  0  0  0  0  0  0    0    0    0    0    0    0    0    0    0    0    0    0    0    0    0    0    0    0    0    0  0  \n",
            "0  0  0  0  0  0  0    0    0    0    0    0    0    0    0    0    0    0    0    0    0    0    0    0    0    0    0  0  \n",
            "0  0  0  0  0  0  0    0    0    0    0    0    0    0    0    0    0    0    0    0    0    0    0    0    0    0    0  0  \n",
            "0  0  0  0  0  0  0    0    0    0    0    0    0    0    0    0    0    0    0    0    0    0    0    0    0    0    0  0  \n",
            "0  0  0  0  0  0  0    0    0    0    0    0    0    0    0    0    0    0    0    0    0    0    0    0    0    0    0  0  \n",
            "0  0  0  0  0  0  0    0    0    0    0    0    0    0   51   26    0    0    0    0    0    0    0   19   70   38    0  0  \n",
            "0  0  0  0  0  0  0    0    0    0    0    0    0   13  222  239   21    0    0    0   26   97  230  237  253  243  163  0  \n",
            "0  0  0  0  0  0  0    0    0    0    0    0   22  195  253  214   13   95  149  208  232  253  253  254  248  232  202  0  \n",
            "0  0  0  0  0  0  0    0    0    0    0   26  189  253  253  151  176  240  253  254  253  253  253  254   73    7   19  0  \n",
            "0  0  0  0  0  0  0    0    0    0   26  153  254  254  254  254  254  254  254  254  241  142   93   34    0    0    0  0  \n",
            "0  0  0  0  0  0  0    0    0    5  155  254  253  253  253  254  253  248  106   23   19    0    0    0    0    0    0  0  \n",
            "0  0  0  0  0  0  0    0    5  112  253  254  223   71  137  197  145   58    0    0    0    0    0    0    0    0    0  0  \n",
            "0  0  0  0  0  0  0    0  114  253  253  228   40    0    0    0    0    0    0    0    0    0    0    0    0    0    0  0  \n",
            "0  0  0  0  0  0  0    0  231  254  254  102    0    0    0    0    0    0    0    0    0    0    0    0    0    0    0  0  \n",
            "0  0  0  0  0  0  0  114  251  253  219   81   64   59    0    0    0    0    0    0    0    0    0    0    0    0    0  0  \n",
            "0  0  0  0  0  0  0  161  253  253  253  254  253  249  174   17    0    0    0    0    0    0    0    0    0    0    0  0  \n",
            "0  0  0  0  0  0  0  103  245  253  253  254  253  253  253  235  118    0    0    0    0    0    0    0    0    0    0  0  \n",
            "0  0  0  0  0  0  0    0    0    0   68   93  142  216  254  254  254   46    0    0    0    0    0    0    0    0    0  0  \n",
            "0  0  0  0  0  0  0    0    0    0    0    0    0   40  228  254  253   46    0    0    0    0    0    0    0    0    0  0  \n",
            "0  0  0  0  0  0  0    0    0    0    0    0   89  228  253  254  206    9    0    0    0    0    0    0    0    0    0  0  \n",
            "0  0  0  0  0  0  0   26    9    0   68  151  247  253  253  228   40    0    0    0    0    0    0    0    0    0    0  0  \n",
            "0  0  0  0  0  0  0  187  254  254  254  255  254  254  169    0    0    0    0    0    0    0    0    0    0    0    0  0  \n",
            "0  0  0  0  0  0  0  254  253  253  253  241  206  123    6    0    0    0    0    0    0    0    0    0    0    0    0  0  \n",
            "0  0  0  0  0  0  0  211  232  230  128   34    0    0    0    0    0    0    0    0    0    0    0    0    0    0    0  0  \n",
            "0  0  0  0  0  0  0   44    6    0    0    0    0    0    0    0    0    0    0    0    0    0    0    0    0    0    0  0  \n",
            "0  0  0  0  0  0  0    0    0    0    0    0    0    0    0    0    0    0    0    0    0    0    0    0    0    0    0  0  \n",
            "0  0  0  0  0  0  0    0    0    0    0    0    0    0    0    0    0    0    0    0    0    0    0    0    0    0    0  0  \n"
          ]
        }
      ],
      "source": [
        "# just a little function for pretty printing a matrix\n",
        "def matprint(mat, fmt=\"g\"):\n",
        "    col_maxes = [max([len((\"{:\"+fmt+\"}\").format(x)) for x in col]) for col in mat.T]\n",
        "    for x in mat:\n",
        "        for i, y in enumerate(x):\n",
        "            print((\"{:\"+str(col_maxes[i])+fmt+\"}\").format(y), end=\"  \")\n",
        "        print(\"\")\n",
        "\n",
        "# now print!\n",
        "matprint(X_train[num])"
      ]
    },
    {
      "cell_type": "markdown",
      "metadata": {
        "id": "C49UxFrbS6t1"
      },
      "source": [
        "Each pixel is an 8-bit integer from 0-255. 0 is full black, while 255 is full white. This what we call a single-channel pixel. It's called monochrome.\n",
        "\n",
        "*Fun-fact! Your computer screen has three channels for each pixel: red, green, blue. Each of these channels also likely takes an 8-bit integer. 3 channels -- 24 bits total -- 16,777,216 possible colors!*\n",
        "\n",
        "## Formatting the input data layer\n",
        "\n",
        "Instead of a 28 x 28 matrix, we build our network to accept a 784-length vector.\n",
        "\n",
        "Each image needs to be then reshaped (or flattened) into a vector. We'll also normalize the inputs to be in the range [0-1] rather than [0-255]. Normalizing inputs is generally recommended, so that any additional dimensions (for other network architectures) are of the same scale.\n",
        "\n",
        "<img src='https://github.com/AviatorMoser/keras-mnist-tutorial/blob/master/flatten.png?raw=1' style=\"width: 400px; height: 250px;\">"
      ]
    },
    {
      "cell_type": "code",
      "execution_count": 6,
      "metadata": {
        "id": "H8xiEUeAS6t1"
      },
      "outputs": [
        {
          "name": "stdout",
          "output_type": "stream",
          "text": [
            "Training matrix shape (60000, 784)\n",
            "Testing matrix shape (10000, 784)\n"
          ]
        }
      ],
      "source": [
        "X_train = X_train.reshape(60000, 784) # reshape 60,000 28 x 28 matrices into 60,000 784-length vectors.\n",
        "X_test = X_test.reshape(10000, 784)   # reshape 10,000 28 x 28 matrices into 10,000 784-length vectors.\n",
        "\n",
        "X_train = X_train.astype('float32')   # change integers to 32-bit floating point numbers\n",
        "X_test = X_test.astype('float32')\n",
        "\n",
        "X_train /= 255                        # normalize each value for each pixel for the entire vector for each input\n",
        "X_test /= 255\n",
        "\n",
        "print(\"Training matrix shape\", X_train.shape)\n",
        "print(\"Testing matrix shape\", X_test.shape)"
      ]
    },
    {
      "cell_type": "markdown",
      "metadata": {
        "id": "RZH4plB0S6t2"
      },
      "source": [
        "We then modify our classes (unique digits) to be in the one-hot format, i.e.\n",
        "\n",
        "```\n",
        "0 -> [1, 0, 0, 0, 0, 0, 0, 0, 0, 0]\n",
        "1 -> [0, 1, 0, 0, 0, 0, 0, 0, 0, 0]\n",
        "2 -> [0, 0, 1, 0, 0, 0, 0, 0, 0, 0]\n",
        "etc.\n",
        "```\n",
        "\n",
        "If the final output of our network is very close to one of these classes, then it is most likely that class. For example, if the final output is:\n",
        "\n",
        "```\n",
        "[0, 0.94, 0, 0, 0, 0, 0.06, 0, 0]\n",
        "```\n",
        "then it is most probable that the image is that of the digit `1`."
      ]
    },
    {
      "cell_type": "code",
      "execution_count": 9,
      "metadata": {
        "collapsed": true,
        "id": "tVMcXgJrS6t3"
      },
      "outputs": [],
      "source": [
        "nb_classes = 10 # number of unique digits\n",
        "\n",
        "Y_train = np_utils.to_categorical(y_train, nb_classes)\n",
        "Y_test = np_utils.to_categorical(y_test, nb_classes)"
      ]
    },
    {
      "cell_type": "markdown",
      "metadata": {},
      "source": [
        "<h3>Build, Train and Test Overview</h3>\n",
        "\n",
        "<img src=\"https://github.com/AviatorMoser/keras-mnist-tutorial/blob/master/figure.png?raw=1\" style=\"width: 300px; height: 300px;\"/>\n",
        "\n",
        "Below are attributes that you can edit to build your model. With the attributes we effect various stages in our model train pipeline (compilation, training and testing):\n",
        "\n",
        "<b>1 Building the model:</b> The model build is the process by which we create its architecture. For this demo, you may define what layers are in the model and the number of neurons in them. The <b>dropout percentage</b> is also available, which will turn neurons off at random - This helps to avoid overfitting. We also choose the hidden layers <b>activation function</b> which is the function ran when the neuron activates. <b>Softmax</b> is chosen as the <b>output layer's activation function</b> as we want probability distributions to determine our answer.\n",
        "\n",
        "<b>2 Compiling the model:</b> This is where the model <b>optimizer (Adam)</b>, <b>loss function (aka objective function)</b> and metric (what we'll be using to rate its results) is chosen. \n",
        "<b>Categorical cross entropy</b> is chosen as it results in a probability distribution for our 10 possible digits - i.e. We can be 80% sure it's a 3, 10% sure it's a 9 and 1% sure it's a 4 and so on for example.\n",
        "\n",
        "The optimizer is what is used to tune how the model learns. It uses an algorithm, known as Gradient Descent, to find the optimal value (at a high level this is trying to find the lower values for the loss function for each variable) It requires a <b>learning rate</b> to be provided for it to operate\n",
        "\n",
        "<img src = \"./gradient_descent.png\" style=\"width: 400px; height: 200px\">\n",
        "<img src = \"./learning_rate.png\" style=\"width: 400px; height: 200px;\">\n",
        "\n",
        "Choosing a learning rate is important. Large rates could miss the optimal global minimum and small steps could become stuck in local minimum.\n",
        "\n",
        "<img src = './complicated_loss_function.png' style=\"width: 400px; height: 200px;\">\n",
        "\n",
        "<b>3 Training (or fitting) the model:</b> This is the main and longest process in our pipeline. This involves using runs to pass through the model and incrementally improve it against the training data we prepared earlier. The runs are called epochs and randomly select data from dataset to train against and the batch size is the amount of data which is passed through at once (in 'batches')\n",
        "\n",
        "<b>4 Testing the model:</b> This is the final part of the process and involves comparing what our model got with the ground truth (our Y_test data)\n",
        "\n",
        "<h3> Build Your Model </h3>\n",
        "Edit the below variables to configure your model"
      ]
    },
    {
      "cell_type": "code",
      "execution_count": 10,
      "metadata": {},
      "outputs": [],
      "source": [
        "# # Configure your model parameters here\n",
        "# # Example of really good case\n",
        "activation_function = 'relu' # Activation function for the hidden layers. Other options include: swish, selu, sigmoid, mish, linear, tanh\n",
        "learning_rate = 0.001 # Adam is selected (could be another though) - This will detemine the step size in our gradient descent\n",
        "dropout_perc = 0.21\n",
        "neuron_nums = [512] # Pick your no of neurons you want in each layer\n",
        "batch_size = 128 # Training batch size \n",
        "epoch_num = 5\n",
        "\n",
        "# Example of a really bad case\n",
        "# Configure your model parameters here\n",
        "# activation_function = 'sigmoid' # Activation function for the hidden layers. Other options include: swish, selu, sigmoid, mish, linear, tanh\n",
        "# learning_rate = 100.0\n",
        "# dropout_perc = 0.6 # Dropout percentage, the random seleciton % of neurons to turn off during training \n",
        "# batch_size = 254 # Training batch size \n",
        "# neuron_nums = [512,512,512] # Pick your no of neurons you want in each layer\n",
        "# epoch_num = 5\n"
      ]
    },
    {
      "cell_type": "code",
      "execution_count": 11,
      "metadata": {},
      "outputs": [
        {
          "name": "stdout",
          "output_type": "stream",
          "text": [
            "------ Model Built: \n",
            "\n",
            "Model: \"sequential_1\"\n",
            "_________________________________________________________________\n",
            " Layer (type)                Output Shape              Param #   \n",
            "=================================================================\n",
            " dense_3 (Dense)             (None, 512)               401920    \n",
            "                                                                 \n",
            " activation_3 (Activation)   (None, 512)               0         \n",
            "                                                                 \n",
            " dropout_2 (Dropout)         (None, 512)               0         \n",
            "                                                                 \n",
            " dense_4 (Dense)             (None, 512)               262656    \n",
            "                                                                 \n",
            " activation_4 (Activation)   (None, 512)               0         \n",
            "                                                                 \n",
            " dropout_3 (Dropout)         (None, 512)               0         \n",
            "                                                                 \n",
            " dense_5 (Dense)             (None, 10)                5130      \n",
            "                                                                 \n",
            " activation_5 (Activation)   (None, 10)                0         \n",
            "                                                                 \n",
            "=================================================================\n",
            "Total params: 669706 (2.55 MB)\n",
            "Trainable params: 669706 (2.55 MB)\n",
            "Non-trainable params: 0 (0.00 Byte)\n",
            "_________________________________________________________________\n",
            "------ Model Compiled with Learning Rate:  0.001\n",
            "------ Model Training: \n",
            "\n",
            "Epoch 1/5\n",
            "469/469 [==============================] - 5s 11ms/step - loss: 0.2537 - accuracy: 0.9242\n",
            "Epoch 2/5\n",
            "469/469 [==============================] - 5s 10ms/step - loss: 0.1005 - accuracy: 0.9688\n",
            "Epoch 3/5\n",
            "469/469 [==============================] - 5s 10ms/step - loss: 0.0715 - accuracy: 0.9777\n",
            "Epoch 4/5\n",
            "469/469 [==============================] - 6s 12ms/step - loss: 0.0553 - accuracy: 0.9826\n",
            "Epoch 5/5\n",
            "469/469 [==============================] - 6s 13ms/step - loss: 0.0468 - accuracy: 0.9847\n"
          ]
        }
      ],
      "source": [
        "# The Sequential model is a linear stack of layers and is very common.\n",
        "model = Sequential()\n",
        "\n",
        "def build_model(activation_function,dropout_perc,neuron_nums):\n",
        "    # The first hidden layer is a set of 512 nodes (artificial neurons).\n",
        "    # Each node will receive an element from each input vector and apply some weight and bias to it.\n",
        "    model.add(Dense(512, input_shape=(784,))) #(784,) is not a typo -- that represents a 784 length vector!\n",
        "    \n",
        "    # An \"activation\" is a non-linear function applied to the output of the layer above.\n",
        "    # It checks the new value of the node, and decides whether that artifical neuron has fired.\n",
        "    # The Rectified Linear Unit (ReLU) converts all negative inputs to nodes in the next layer to be zero.\n",
        "    # Those inputs are then not considered to be fired.\n",
        "    # Positive values of a node are unchanged.\n",
        "    model.add(Activation(activation_function))\n",
        "    \n",
        "    # Dropout zeroes a selection of random outputs (i.e., disables their activation)\n",
        "    # Dropout helps protect the model from memorizing or \"overfitting\" the training data.\n",
        "    model.add(Dropout(dropout_perc))\n",
        "    \n",
        "    # The following hidden layers appear identical to our first layer.\n",
        "    # However, instead of each of the 512-node receiving 784-inputs from the input image data,\n",
        "    # they receive previous outputs as inputs for themselves.\n",
        "    for num in neuron_nums:    \n",
        "        model.add(Dense(num))\n",
        "        model.add(Activation(activation_function))\n",
        "        model.add(Dropout(dropout_perc))\n",
        "    \n",
        "    # The final layer of 10 neurons in fully-connected to the previous 512-node layer.\n",
        "    # The final layer of a FCN should be equal to the number of desired classes (10 in this case).\n",
        "    model.add(Dense(10))\n",
        "    \n",
        "    model.add(Activation('softmax'))\n",
        "    print('------ Model Built: \\n')\n",
        "    model.summary()\n",
        "\n",
        "def compile_model(lr):\n",
        "    # Let's use the Adam optimizer for learning\n",
        "    model.compile(loss='categorical_crossentropy', optimizer=tf.keras.optimizers.Adam(learning_rate=lr), metrics=['accuracy'])\n",
        "    print('------ Model Compiled with Learning Rate: ', lr)\n",
        "\n",
        "def train_model(X_train, Y_train, batch_size, epoch_num):\n",
        "    print('------ Model Training: \\n')\n",
        "    model.fit(X_train, Y_train,\n",
        "          batch_size=batch_size, epochs=epoch_num,\n",
        "          verbose=1)\n",
        "\n",
        "\n",
        "build_model(activation_function,dropout_perc,neuron_nums)\n",
        "compile_model(learning_rate)\n",
        "train_model(X_train,Y_train, batch_size, epoch_num)"
      ]
    },
    {
      "cell_type": "markdown",
      "metadata": {
        "id": "77qCWF6TS6uE"
      },
      "source": [
        "<h3>Testing the Model</h3>"
      ]
    },
    {
      "cell_type": "code",
      "execution_count": 12,
      "metadata": {
        "id": "SnVLWvWjS6uE"
      },
      "outputs": [
        {
          "name": "stdout",
          "output_type": "stream",
          "text": [
            "313/313 [==============================] - 1s 2ms/step - loss: 0.0658 - accuracy: 0.9801\n",
            "Test score: 0.06584545224905014\n",
            "Test accuracy: 0.9800999760627747\n"
          ]
        }
      ],
      "source": [
        "score = model.evaluate(X_test, Y_test)\n",
        "print('Test score:', score[0])\n",
        "print('Test accuracy:', score[1])"
      ]
    },
    {
      "cell_type": "markdown",
      "metadata": {
        "id": "Gd6NTNhTS6uF"
      },
      "source": [
        "<h3> Where Did We Go Wrong?! </h3>\n",
        "It's always a good idea to inspect the output and make sure everything looks sane. Here we'll look at some examples it gets right, and some examples it gets wrong. We use a confusion matrix to summarize how we did in solving out dataset."
      ]
    },
    {
      "cell_type": "code",
      "execution_count": 13,
      "metadata": {
        "collapsed": true,
        "id": "b25Noh0oS6uF"
      },
      "outputs": [
        {
          "name": "stdout",
          "output_type": "stream",
          "text": [
            "313/313 [==============================] - 1s 2ms/step\n",
            "Amount Predicted Correctly: 9801 \n",
            "Amount Predicted Incorrectly: 199\n"
          ]
        }
      ],
      "source": [
        "# The predict_classes function outputs the highest probability class\n",
        "# according to the trained classifier for each input example.\n",
        "predicted_classes = model.predict(X_test)\n",
        "\n",
        "# Check which items we got right / wrong\n",
        "correct_indices = np.nonzero(np.argmax(predicted_classes, axis=1) == y_test)[0]\n",
        "incorrect_indices = np.nonzero(np.argmax(predicted_classes, axis=1) != y_test)[0]\n",
        "print('Amount Predicted Correctly: ' + str(len(correct_indices)), '\\nAmount Predicted Incorrectly: ' + str(len(incorrect_indices)))"
      ]
    },
    {
      "cell_type": "code",
      "execution_count": 1,
      "metadata": {
        "id": "tNKSIKouS6uG"
      },
      "outputs": [
        {
          "ename": "NameError",
          "evalue": "name 'confusion_matrix' is not defined",
          "output_type": "error",
          "traceback": [
            "\u001b[1;31m---------------------------------------------------------------------------\u001b[0m",
            "\u001b[1;31mNameError\u001b[0m                                 Traceback (most recent call last)",
            "\u001b[1;32mc:\\Users\\ecrokar\\OneDrive - Ericsson\\Documents\\HandsOnML\\MNIST_in_Keras.ipynb Cell 22\u001b[0m line \u001b[0;36m1\n\u001b[1;32m----> <a href='vscode-notebook-cell:/c%3A/Users/ecrokar/OneDrive%20-%20Ericsson/Documents/HandsOnML/MNIST_in_Keras.ipynb#X30sZmlsZQ%3D%3D?line=0'>1</a>\u001b[0m cm \u001b[39m=\u001b[39m confusion_matrix(np\u001b[39m.\u001b[39margmax(predicted_classes, axis\u001b[39m=\u001b[39m\u001b[39m1\u001b[39m),y_test)\n\u001b[0;32m      <a href='vscode-notebook-cell:/c%3A/Users/ecrokar/OneDrive%20-%20Ericsson/Documents/HandsOnML/MNIST_in_Keras.ipynb#X30sZmlsZQ%3D%3D?line=1'>2</a>\u001b[0m \u001b[39m# Plot the confusion matrix as a heatmap using seaborn\u001b[39;00m\n\u001b[0;32m      <a href='vscode-notebook-cell:/c%3A/Users/ecrokar/OneDrive%20-%20Ericsson/Documents/HandsOnML/MNIST_in_Keras.ipynb#X30sZmlsZQ%3D%3D?line=2'>3</a>\u001b[0m plt\u001b[39m.\u001b[39mfigure(figsize\u001b[39m=\u001b[39m(\u001b[39m8\u001b[39m, \u001b[39m6\u001b[39m))\n",
            "\u001b[1;31mNameError\u001b[0m: name 'confusion_matrix' is not defined"
          ]
        }
      ],
      "source": [
        "cm = confusion_matrix(np.argmax(predicted_classes, axis=1),y_test)\n",
        "# Plot the confusion matrix as a heatmap using seaborn\n",
        "plt.figure(figsize=(8, 6))\n",
        "sns.heatmap(cm, annot=True, fmt=\"d\", cmap=\"Blues\")\n",
        "plt.xlabel(\"Predicted\")\n",
        "plt.ylabel(\"Actual\")\n",
        "plt.title(\"Confusion Matrix\")\n"
      ]
    },
    {
      "cell_type": "markdown",
      "metadata": {},
      "source": [
        "<h3>Continue the ML Journey</h3>\n",
        "\n",
        "There are many problems that can be solved using ML/AI methods and many datasets to be solved by them. Datasets such as the Daimler Monocular Pedestrian Detection dataset, Iris Flower dataset and even one for QuickDraw drawings - https://github.com/googlecreativelab/quickdraw-dataset \n",
        "\n",
        "Within BCSS we have a data OKR which involves upskilling and sharpening ML development. Take advantage of this OKR and learn ML procedures that you can use in your day-to-day work - This pathway is available on degreed: <i><link href='https://degreed.com/plan/1003985'>BCSS Artificial Intelligence and Machine Learning</link></i>\n",
        "\n",
        "<img src = \"./bcss_ai_deg_plan.png\" style=\"width: 600px; height: 300px\"/>\n",
        "\n",
        "<img src=\"./qrcode_degreed.com.png\" style=\"width: 300px; height: 300px\"/>\n",
        "\n",
        "If you have an idea for an AI/ML project, the AI Guild is also available. This newly set up guild in the innovation lab provides support for AI related projects and is registering members constantly. This guild provides expertise and support for your ML project ideas. Once you join the guild, you can input your ideas and support will be provided to you its implementation\n",
        "\n",
        "<img src = \"./innovation_flywheel.png\" style=\"width: 600px; height: 300px\"/>\n"
      ]
    },
    {
      "cell_type": "markdown",
      "metadata": {},
      "source": [
        "**Resources: [Xavier Snelgrove](https://github.com/wxs/keras-mnist-tutorial), [Yash Katariya](https://github.com/yashk2810/MNIST-Keras)**"
      ]
    }
  ],
  "metadata": {
    "colab": {
      "provenance": []
    },
    "kernelspec": {
      "display_name": "Python 3",
      "language": "python",
      "name": "python3"
    },
    "language_info": {
      "codemirror_mode": {
        "name": "ipython",
        "version": 3
      },
      "file_extension": ".py",
      "mimetype": "text/x-python",
      "name": "python",
      "nbconvert_exporter": "python",
      "pygments_lexer": "ipython3",
      "version": "3.11.0"
    }
  },
  "nbformat": 4,
  "nbformat_minor": 0
}
